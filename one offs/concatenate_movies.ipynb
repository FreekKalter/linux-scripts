{
 "cells": [
  {
   "cell_type": "code",
   "execution_count": 26,
   "metadata": {
    "collapsed": false
   },
   "outputs": [],
   "source": [
    "from __future__ import print_function\n",
    "from path import Path\n",
    "import re\n",
    "import subprocess"
   ]
  },
  {
   "cell_type": "markdown",
   "metadata": {},
   "source": [
    "Concatenate movies found in the current directory, and converts them in the process.\n",
    "```\n",
    "For example this dir:\n",
    "test.1.wmv test.2.wmv test.3.wmv \n",
    "freek.1.wmv freek.2.wmv\n",
    "```\n",
    "After running this script, you will have 2 movies 1 called test.mp4, the other freek.mp4."
   ]
  },
  {
   "cell_type": "code",
   "execution_count": 44,
   "metadata": {
    "collapsed": false
   },
   "outputs": [
    {
     "name": "stdout",
     "output_type": "stream",
     "text": [
      "working on:lc02-wmvhi-\n",
      "\n",
      "./lc02-wmvhi-concated.mp4 : succes\n",
      "working on:lbgpov13skyler-wmvhi-\n",
      "\n",
      "./lbgpov13skyler-wmvhi-concated.mp4 : succes\n",
      "working on:lbgpov21diamond-wmvhi-\n",
      "\n",
      "./lbgpov21diamond-wmvhi-concated.mp4 : succes\n",
      "working on:lconboat-wmvhi-\n",
      "\n",
      "./lconboat-wmvhi-concated.mp4 : succes\n",
      "working on:lbgpov12dana-wmvhi-\n",
      "\n",
      "./lbgpov12dana-wmvhi-concated.mp4 : succes\n"
     ]
    }
   ],
   "source": [
    "d = Path('.')\n",
    "ones = d.files('*1.wmv')\n",
    "for f in ones:\n",
    "    base = re.sub('1.wmv$', '', f.name)\n",
    "    newname = './'+base+'concated.mp4'\n",
    "    series = [str(s) for s in d.files(base + '*.wmv')]\n",
    "    series.sort()\n",
    "    mmcat = ['./mmcat'] + series+ [newname]\n",
    "    rmc = ['rm', '-f'] + [s for s in series if s.endswith('wmv')]\n",
    "    print('working on:' + base)\n",
    "    print()\n",
    "    if subprocess.call(mmcat) == 0:\n",
    "        print('{} : succes'.format(newname))\n",
    "        subprocess.call(rmc)\n",
    "    else:\n",
    "        print('{} : failed'.format(newname))               "
   ]
  },
  {
   "cell_type": "code",
   "execution_count": null,
   "metadata": {
    "collapsed": false
   },
   "outputs": [],
   "source": []
  }
 ],
 "metadata": {
  "kernelspec": {
   "display_name": "Python 3",
   "language": "python",
   "name": "python3"
  },
  "language_info": {
   "codemirror_mode": {
    "name": "ipython",
    "version": 3
   },
   "file_extension": ".py",
   "mimetype": "text/x-python",
   "name": "python",
   "nbconvert_exporter": "python",
   "pygments_lexer": "ipython3",
   "version": "3.4.3"
  }
 },
 "nbformat": 4,
 "nbformat_minor": 0
}
